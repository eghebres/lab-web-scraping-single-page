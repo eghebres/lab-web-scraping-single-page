{
 "cells": [
  {
   "cell_type": "code",
   "execution_count": 13,
   "id": "10e134eb",
   "metadata": {},
   "outputs": [],
   "source": [
    "from bs4 import BeautifulSoup\n",
    "from time import sleep\n",
    "import random\n",
    "import requests\n",
    "import pandas as pd\n",
    "from datetime import datetime"
   ]
  },
  {
   "cell_type": "code",
   "execution_count": 14,
   "id": "088ea634",
   "metadata": {},
   "outputs": [],
   "source": [
    "url = 'https://www.popvortex.com/music/charts/top-100-songs.php'"
   ]
  },
  {
   "cell_type": "code",
   "execution_count": 15,
   "id": "27c4f154",
   "metadata": {},
   "outputs": [],
   "source": [
    "response = requests.get(url)"
   ]
  },
  {
   "cell_type": "code",
   "execution_count": 16,
   "id": "5927e64b",
   "metadata": {},
   "outputs": [
    {
     "data": {
      "text/plain": [
       "200"
      ]
     },
     "execution_count": 16,
     "metadata": {},
     "output_type": "execute_result"
    }
   ],
   "source": [
    "# the status_code response '200' means success\n",
    "response.status_code"
   ]
  },
  {
   "cell_type": "code",
   "execution_count": 17,
   "id": "2ace5d83",
   "metadata": {},
   "outputs": [],
   "source": [
    "html = response.content\n",
    "# html"
   ]
  },
  {
   "cell_type": "code",
   "execution_count": null,
   "id": "4021b449",
   "metadata": {},
   "outputs": [],
   "source": [
    "# A parser is a compiler or interpreter component that breaks data into smaller elements for easy translation\n",
    "# into another language. A parser takes input in the form of a sequence of tokens, interactive commands, or program \n",
    "# instructions and breaks them up into parts that can be used by other components in programming."
   ]
  },
  {
   "cell_type": "code",
   "execution_count": 18,
   "id": "b030b5ca",
   "metadata": {},
   "outputs": [],
   "source": [
    "soup = BeautifulSoup(html, 'html.parser')\n",
    "# soup\n",
    "# print(soup.prettify())"
   ]
  },
  {
   "cell_type": "code",
   "execution_count": 19,
   "id": "087972df",
   "metadata": {},
   "outputs": [
    {
     "data": {
      "text/plain": [
       "[]"
      ]
     },
     "execution_count": 19,
     "metadata": {},
     "output_type": "execute_result"
    }
   ],
   "source": [
    "html_title = soup.find_all(response.content, 'html.parser')\n",
    "html_title"
   ]
  },
  {
   "cell_type": "code",
   "execution_count": 20,
   "id": "ddfac53c",
   "metadata": {},
   "outputs": [],
   "source": [
    "# soup.select(\"span.chart-element__information__song\")"
   ]
  },
  {
   "cell_type": "code",
   "execution_count": 22,
   "id": "f76eb402",
   "metadata": {},
   "outputs": [
    {
     "name": "stdout",
     "output_type": "stream",
     "text": [
      "['About Damn Time', 'Running Up That Hill (A Deal with God)', 'Irrelevant', \"Y'all Life\", 'As It Was', 'Names', 'Never Til Now', 'BREAK MY SOUL', 'The Kind of Love We Make', 'Unstoppable', 'Rock and A Hard Place', 'American Pie (Full Length Version)', 'She Had Me At Heads Carolina', 'About Damn Time', 'Wasted On You', 'Good as Hell', \"I Ain't Worried\", 'Sunroof', 'Party In the U.S.A.', 'Quietly Yours', 'You Proof', 'Hold My Hand', 'Left and Right', 'Master of Puppets', 'Like I Love Country Music', 'First Class', 'Son Of A Sinner', 'Glimpse of Us', 'The Dying Song (Time To Sing)', 'Call Me Maybe', 'I Like You (A Happier Song) [feat. Doja Cat]', 'Victoria’s Secret', 'Arson', 'Fall In Love', 'Poker Face', '5 Foot 9', 'Numb', 'Fancy Like', 'Hot Shit', 'Big Energy (Remix) [feat. DJ Khaled]', 'AA', 'She Likes It (feat. Jake Scott)', 'Never Gonna Give You Up', \"'Til You Can't\", 'Cold Heart (PNAU Remix)', 'Lights (Single Version)', 'Hey You', \"Can't Stop Us Now\", 'Late Night Talking', 'Don’t Come Lookin’', 'Dark Horse (feat. Juicy J)', \"I'm Yours\", '7 Years', 'Everybody Wants to Rule the World', \"Sweet Child O' Mine\", 'Vegas (From the Original Motion Picture Soundtrack ELVIS)', 'Damn Strait', 'Just the Way You Are (feat. Lupe Fiasco) [Remix] [Bonus Track]', 'Sweet Caroline', '= (Equal Sign)', 'Stay With Me', 'Roar', 'Dancing Queen', 'Tennessee Whiskey', 'Shivers', 'Joy of My Life', 'You Can Have Him Jolene', 'Vegas', 'Numb Little Bug', \"Pandora's Box\", 'Big Energy', 'When I Was Your Man', 'Save Me', 'Safety Zone', 'What If…', 'Future', 'STOP', \"When You're Gone\", 'Grenade', 'W.I.T.C.H.', 'In Jesus Name (God Of Possible)', 'Betty (Get Money)', 'The Motto', 'WAIT FOR U (feat. Drake & Tems)', 'Tití Me Preguntó', 'Music Box : Reflection', 'Sand In My Boots', 'Love Shack', \"Something in the Orange (Z&E's Version)\", 'Separate Ways (Worlds Apart) [Steve Perry & Bryce Miller Extended Remix]', 'Special', 'Soul', 'Night Changes', 'Love Me More', 'You', 'Chrissy, Wake Up', 'Kings & Queens', 'abcdefu (feat. Royal & the Serpent)', 'Levitating (feat. DaBaby)', \"California Dreamin'\"]\n",
      "['Lizzo', 'Kate Bush', 'P!nk', 'Walker Hayes', 'Harry Styles', 'Tom MacDonald', 'Ashley Cooke & Brett Young', 'Beyoncé', 'Luke Combs', 'Sia', 'Bailey Zimmerman', 'Don Mclean', 'Cole Swindell', 'Lizzo', 'Morgan Wallen', 'Lizzo', 'OneRepublic', 'Nicky Youre & Dazy', 'Miley Cyrus', 'Birdy', 'Morgan Wallen', 'Lady Gaga', 'Charlie Puth & Jung Kook', 'Metallica', 'Kane Brown', 'Jack Harlow', 'Jelly Roll', 'Joji', 'Slipknot', 'Carly Rae Jepsen', 'Post Malone', 'Jax', 'j-hope', 'Bailey Zimmerman', 'Lady Gaga', 'Tyler Hubbard', 'Marshmello & Khalid', 'Walker Hayes', 'Cardi B, Kanye West & Lil Durk', 'Latto & Mariah Carey', 'Walker Hayes', 'Russell Dickerson & Jake Scott', 'Rick Astley', 'Cody Johnson', 'Elton John & Dua Lipa', 'Ellie Goulding', 'Disturbed', 'Pitbull & Zac Brown', 'Harry Styles', 'Jackson Dean', 'Katy Perry', 'Jason Mraz', 'Lukas Graham', 'Tears for Fears', \"Guns N' Roses\", 'Doja Cat', 'Scotty McCreery', 'Bruno Mars', 'Neil Diamond', 'j-hope', 'Calvin Harris, Justin Timberlake, Halsey & Pharrell Williams', 'Katy Perry', 'ABBA', 'Chris Stapleton', 'Ed Sheeran', 'Chris Stapleton', 'Chapel Hart', 'Doja Cat', 'Em Beihold', 'j-hope', 'Latto', 'Bruno Mars', 'Jelly Roll', 'j-hope', 'j-hope', 'j-hope', 'j-hope', 'Shawn Mendes', 'Bruno Mars', 'Devon Cole', 'Katy Nichole', 'Yung Gravy', 'Tiësto & Ava Max', 'Future', 'Bad Bunny', 'j-hope', 'Morgan Wallen', \"The B-52's\", 'Zach Bryan', 'Journey & Steve Perry', 'Lizzo', 'Lee Brice', 'One Direction', 'Sam Smith', 'Louyah', 'The Gregory Brothers', 'Ava Max', 'GAYLE', 'Dua Lipa', 'The Mamas & The Papas']\n"
     ]
    }
   ],
   "source": [
    "# empty lists\n",
    "song = []\n",
    "artist = []\n",
    "\n",
    "num_iter = len(soup.select('p.title-artist'))\n",
    "\n",
    "song_list = soup.select(\"p.title-artist cite\")\n",
    "artist_list = soup.select(\"p.title-artist em\")\n",
    "\n",
    "for i in range(num_iter):\n",
    "    song.append(song_list[i].get_text())\n",
    "    artist.append(artist_list[i].get_text())\n",
    "    \n",
    "\n",
    "print(song)\n",
    "print(artist)"
   ]
  },
  {
   "cell_type": "code",
   "execution_count": 23,
   "id": "0d5cdfa8",
   "metadata": {},
   "outputs": [
    {
     "data": {
      "text/html": [
       "<div>\n",
       "<style scoped>\n",
       "    .dataframe tbody tr th:only-of-type {\n",
       "        vertical-align: middle;\n",
       "    }\n",
       "\n",
       "    .dataframe tbody tr th {\n",
       "        vertical-align: top;\n",
       "    }\n",
       "\n",
       "    .dataframe thead th {\n",
       "        text-align: right;\n",
       "    }\n",
       "</style>\n",
       "<table border=\"1\" class=\"dataframe\">\n",
       "  <thead>\n",
       "    <tr style=\"text-align: right;\">\n",
       "      <th></th>\n",
       "      <th>artist</th>\n",
       "      <th>song</th>\n",
       "    </tr>\n",
       "  </thead>\n",
       "  <tbody>\n",
       "    <tr>\n",
       "      <th>0</th>\n",
       "      <td>Lizzo</td>\n",
       "      <td>About Damn Time</td>\n",
       "    </tr>\n",
       "    <tr>\n",
       "      <th>1</th>\n",
       "      <td>Kate Bush</td>\n",
       "      <td>Running Up That Hill (A Deal with God)</td>\n",
       "    </tr>\n",
       "    <tr>\n",
       "      <th>2</th>\n",
       "      <td>P!nk</td>\n",
       "      <td>Irrelevant</td>\n",
       "    </tr>\n",
       "    <tr>\n",
       "      <th>3</th>\n",
       "      <td>Walker Hayes</td>\n",
       "      <td>Y'all Life</td>\n",
       "    </tr>\n",
       "    <tr>\n",
       "      <th>4</th>\n",
       "      <td>Harry Styles</td>\n",
       "      <td>As It Was</td>\n",
       "    </tr>\n",
       "    <tr>\n",
       "      <th>...</th>\n",
       "      <td>...</td>\n",
       "      <td>...</td>\n",
       "    </tr>\n",
       "    <tr>\n",
       "      <th>95</th>\n",
       "      <td>The Gregory Brothers</td>\n",
       "      <td>Chrissy, Wake Up</td>\n",
       "    </tr>\n",
       "    <tr>\n",
       "      <th>96</th>\n",
       "      <td>Ava Max</td>\n",
       "      <td>Kings &amp; Queens</td>\n",
       "    </tr>\n",
       "    <tr>\n",
       "      <th>97</th>\n",
       "      <td>GAYLE</td>\n",
       "      <td>abcdefu (feat. Royal &amp; the Serpent)</td>\n",
       "    </tr>\n",
       "    <tr>\n",
       "      <th>98</th>\n",
       "      <td>Dua Lipa</td>\n",
       "      <td>Levitating (feat. DaBaby)</td>\n",
       "    </tr>\n",
       "    <tr>\n",
       "      <th>99</th>\n",
       "      <td>The Mamas &amp; The Papas</td>\n",
       "      <td>California Dreamin'</td>\n",
       "    </tr>\n",
       "  </tbody>\n",
       "</table>\n",
       "<p>100 rows × 2 columns</p>\n",
       "</div>"
      ],
      "text/plain": [
       "                   artist                                    song\n",
       "0                   Lizzo                         About Damn Time\n",
       "1               Kate Bush  Running Up That Hill (A Deal with God)\n",
       "2                    P!nk                              Irrelevant\n",
       "3            Walker Hayes                              Y'all Life\n",
       "4            Harry Styles                               As It Was\n",
       "..                    ...                                     ...\n",
       "95   The Gregory Brothers                        Chrissy, Wake Up\n",
       "96                Ava Max                          Kings & Queens\n",
       "97                  GAYLE     abcdefu (feat. Royal & the Serpent)\n",
       "98               Dua Lipa               Levitating (feat. DaBaby)\n",
       "99  The Mamas & The Papas                     California Dreamin'\n",
       "\n",
       "[100 rows x 2 columns]"
      ]
     },
     "execution_count": 23,
     "metadata": {},
     "output_type": "execute_result"
    }
   ],
   "source": [
    "df = pd.DataFrame({'artist':artist,\n",
    "                  'song':song})\n",
    "df"
   ]
  },
  {
   "cell_type": "code",
   "execution_count": null,
   "id": "a339b272",
   "metadata": {},
   "outputs": [],
   "source": []
  },
  {
   "cell_type": "markdown",
   "id": "a1969d47",
   "metadata": {},
   "source": [
    "# Lab 6.2"
   ]
  },
  {
   "cell_type": "code",
   "execution_count": null,
   "id": "329bc07c",
   "metadata": {},
   "outputs": [],
   "source": [
    "url_2 = 'https://www.top-charts.com/songs/all-genres/germany/total'"
   ]
  },
  {
   "cell_type": "code",
   "execution_count": null,
   "id": "99b7689c",
   "metadata": {},
   "outputs": [],
   "source": [
    "response_2 = requests.get(url_2)\n",
    "response_2.status_code"
   ]
  },
  {
   "cell_type": "code",
   "execution_count": null,
   "id": "695ec889",
   "metadata": {},
   "outputs": [],
   "source": [
    "response_2.content\n",
    "len(response_2.content)"
   ]
  },
  {
   "cell_type": "code",
   "execution_count": null,
   "id": "a7e87481",
   "metadata": {},
   "outputs": [],
   "source": [
    "soup_2 = BeautifulSoup(response_2.content, 'html.parser')\n",
    "print(soup_2.prettify())"
   ]
  },
  {
   "cell_type": "code",
   "execution_count": null,
   "id": "ab562042",
   "metadata": {},
   "outputs": [],
   "source": [
    "print(soup_2.select('div.text-truncate'))"
   ]
  },
  {
   "cell_type": "code",
   "execution_count": null,
   "id": "19d52457",
   "metadata": {},
   "outputs": [],
   "source": [
    "# title_=[]\n",
    "# artist_=[]\n",
    "\n",
    "\n",
    "# title_list=soup1.select(\"div.text-truncate\")\n",
    "# artist_list=soup1.select(\"span\")\n",
    "\n",
    "# num_iter2 = len(soup1.select(\"div.artist a\"))\n",
    "\n",
    "# for i in range(num_iter2):\n",
    "#     title_.append(title_list2[i].get_text())\n",
    "#     artist_.append(artist_list2[i].get_text())\n",
    "\n",
    "# print (title2)\n",
    "# print (artist2)"
   ]
  },
  {
   "cell_type": "code",
   "execution_count": null,
   "id": "96b77eea",
   "metadata": {},
   "outputs": [],
   "source": [
    "titles = soup.select('div.text-truncate')\n",
    "all_titles = []\n",
    "for name in titles[0:len(titles)-2:2]:\n",
    "    all_titles.append(name.get_text())"
   ]
  },
  {
   "cell_type": "code",
   "execution_count": null,
   "id": "d87ec83a",
   "metadata": {},
   "outputs": [],
   "source": [
    "artists = []\n",
    "for name in titles[1:len(titles)-2:2]:\n",
    "    artists.append(name.get_text())"
   ]
  },
  {
   "cell_type": "code",
   "execution_count": null,
   "id": "d1a7fb6e",
   "metadata": {},
   "outputs": [],
   "source": [
    "list_ = pd.DataFrame({'artist':artists,'title':all_titles})\n",
    "list_.head()"
   ]
  },
  {
   "cell_type": "code",
   "execution_count": null,
   "id": "5b3169cb",
   "metadata": {},
   "outputs": [],
   "source": []
  },
  {
   "cell_type": "code",
   "execution_count": null,
   "id": "85a798f7",
   "metadata": {},
   "outputs": [],
   "source": []
  },
  {
   "cell_type": "code",
   "execution_count": null,
   "id": "f18da066",
   "metadata": {},
   "outputs": [],
   "source": []
  },
  {
   "cell_type": "code",
   "execution_count": null,
   "id": "c45c1996",
   "metadata": {},
   "outputs": [],
   "source": []
  },
  {
   "cell_type": "code",
   "execution_count": null,
   "id": "23ce01b9",
   "metadata": {},
   "outputs": [],
   "source": []
  }
 ],
 "metadata": {
  "kernelspec": {
   "display_name": "Python 3 (ipykernel)",
   "language": "python",
   "name": "python3"
  },
  "language_info": {
   "codemirror_mode": {
    "name": "ipython",
    "version": 3
   },
   "file_extension": ".py",
   "mimetype": "text/x-python",
   "name": "python",
   "nbconvert_exporter": "python",
   "pygments_lexer": "ipython3",
   "version": "3.9.12"
  }
 },
 "nbformat": 4,
 "nbformat_minor": 5
}
